{
 "cells": [
  {
   "cell_type": "markdown",
   "metadata": {},
   "source": [
    "# Generative Model Demo: Constructing a simple likelihood model \n",
    "This demo notebook provides a walk-through of how to build a simple A matrix (or likelihood mapping) that encodes an aegnt's beliefs about how hidden states 'cause' or probabilistically relate to observations"
   ]
  },
  {
   "cell_type": "markdown",
   "metadata": {},
   "source": [
    "### Imports\n",
    "\n",
    "First, import `pymdp` and the modules we'll need."
   ]
  },
  {
   "cell_type": "code",
   "execution_count": null,
   "metadata": {},
   "outputs": [],
   "source": [
    "import os\n",
    "import sys\n",
    "import pathlib\n",
    "\n",
    "import numpy as np\n",
    "import itertools\n",
    "import pandas as pd\n",
    "\n",
    "path = pathlib.Path(os.getcwd())\n",
    "module_path = str(path.parent) + '/'\n",
    "sys.path.append(module_path)\n",
    "\n",
    "import pymdp.utils as utils\n",
    "from pymdp.utils import create_A_matrix_stub, read_A_matrix\n",
    "from pymdp.algos import run_vanilla_fpi"
   ]
  },
  {
   "cell_type": "markdown",
   "metadata": {},
   "source": [
    "## The world (as represented by the agent's generative model)\n",
    "\n",
    "### Hidden states\n",
    "\n",
    "We assume the agent's \"represents\" (this should make you think: generative _model_ , not _process_ ) its environment using two latent variables that are statistically independent of one another - we can thus represent them using two _hidden state factors._\n",
    "\n",
    "We refer to these two hidden state factors are `DID_IT_RAIN` and `WAS_SPRINKLER_ON`. \n",
    "\n",
    "#### 1. `DID_IT_RAIN`\n",
    "The first factor is a binary variable representing whether or not it rained earlier today.\n",
    "\n",
    "#### 2. `WAS_SPRINKLER_ON`\n",
    "\n",
    "The second factor is a binary variable representing whether or not the sprinkler was on or off earlier today.\n",
    "\n",
    "### Observations\n",
    "\n",
    "The agent believes that these two hidden states probabilistically relate to two observation modalities, i.e. two independent 'sensory channels', which we can call `GRASS_OBSERVATION` and `WEATHER_OBSERVATION`. \n",
    "\n",
    "#### 1. `GRASS_OBSERVATION`\n",
    "The first modality is a binary variable representing the agent's observation (e.g. via vision, for instance) of the grass being wet or being dry.\n",
    "\n",
    "#### 2. `WEATHER_OBSERVATION`\n",
    "\n",
    "The second modality is a ternary (3-valued) variable representing the agent's observation of the state of the weather, e.g. by looking at the sky. In this example, it can either look `clear`, `rainy`, or `cloudy`\n"
   ]
  },
  {
   "cell_type": "code",
   "execution_count": null,
   "metadata": {},
   "outputs": [],
   "source": [
    "model_labels = {\n",
    "            \"observations\": {\n",
    "                \"grass_observation\": [\n",
    "                    \"wet\",\n",
    "                    \"dry\"            \n",
    "                    ],\n",
    "                \"weather_observation\": [\n",
    "                    \"clear\",\n",
    "                    \"rainy\",\n",
    "                    \"cloudy\"\n",
    "                ]\n",
    "            },\n",
    "            \"states\": {\n",
    "                \"did_it_rain\": [\"rained\", \"did_not_rain\"],\n",
    "                \"was_sprinkler_on\": [\"on\", \"off\"],\n",
    "            },\n",
    "        }\n",
    "\n",
    "num_obs, _, n_states, n_factors = utils.get_model_dimensions_from_labels(model_labels)\n",
    "\n",
    "read_from_excel = True\n",
    "pre_specified_excel = True\n",
    "\n",
    "A_stub = create_A_matrix_stub(model_labels)"
   ]
  },
  {
   "cell_type": "markdown",
   "metadata": {},
   "source": [
    "### Option 1. Write the empty A matrix stub to an excel file, fill it out separately (e.g. manually in excel, and then read it back into memory). Remember, these represent the agent's generative model, not the true probabilities that relate states to observations. So you can think of these as the agent's personal/subjective 'assumptions' about how hidden states relate to observations."
   ]
  },
  {
   "cell_type": "code",
   "execution_count": null,
   "metadata": {},
   "outputs": [],
   "source": [
    "if read_from_excel:\n",
    "    ## Option 1: fill out A matrix 'offline' (e.g. in an excel spreadsheet)\n",
    "\n",
    "    excel_dir = 'tmp_dir'\n",
    "    if not os.path.exists(excel_dir):\n",
    "        os.mkdir(excel_dir)\n",
    "\n",
    "    excel_path = os.path.join(excel_dir, 'my_a_matrix.xlsx')\n",
    "\n",
    "    if not pre_specified_excel:\n",
    "        A_stub.to_excel(excel_path)\n",
    "        print(f'Go fill out the A matrix in {excel_path} and then continue running this code\\n')"
   ]
  },
  {
   "cell_type": "markdown",
   "metadata": {},
   "source": [
    "After you've filled out the Excel sheet separately (e.g. opening up Microsoft Excel and filling out the cells, you can read it back into memory)"
   ]
  },
  {
   "cell_type": "code",
   "execution_count": null,
   "metadata": {},
   "outputs": [],
   "source": [
    "if read_from_excel:\n",
    "    A_stub = read_A_matrix(excel_path, n_factors)"
   ]
  },
  {
   "cell_type": "markdown",
   "metadata": {},
   "source": [
    "### Option 2. Fill out the A matrix using the desired probabilities. Remember, these represent the agent's generative model, not the true probabilities that relate states to observations. So you can think of these as the agent's personal/subjective 'assumptions' about how hidden states relate to observations."
   ]
  },
  {
   "cell_type": "code",
   "execution_count": null,
   "metadata": {},
   "outputs": [],
   "source": [
    "if not read_from_excel:\n",
    "    A_stub.loc[('grass_observation','wet'),('rained', 'on')] = 1.0\n",
    "\n",
    "    A_stub.loc[('grass_observation','wet'),('rained', 'off')] = 0.7\n",
    "    A_stub.loc[('grass_observation','dry'),('rained', 'off')] = 0.3\n",
    "\n",
    "    A_stub.loc[('grass_observation','wet'),('did_not_rain', 'on')] = 0.5\n",
    "    A_stub.loc[('grass_observation','dry'),('did_not_rain', 'on')] = 0.5\n",
    "\n",
    "    A_stub.loc[('grass_observation','dry'),('did_not_rain', 'off')] = 1.0\n",
    "\n",
    "    A_stub.loc['weather_observation','rained'] = np.tile(np.array([0.1, 0.65, 0.25]).reshape(-1,1), (1,2)) \n",
    "\n",
    "    A_stub.loc[('weather_observation'),('did_not_rain')] = np.tile(np.array([0.9, 0.05, 0.05]).reshape(-1,1), (1,2)) \n"
   ]
  },
  {
   "cell_type": "markdown",
   "metadata": {},
   "source": [
    "### Now we can use a utility function `convert_stub_to_ndarray` to convert the human-readable A matrix into the multi-dimensional tensor form needed by `pymdp` to achieve things like inference and action selection"
   ]
  },
  {
   "cell_type": "code",
   "execution_count": null,
   "metadata": {},
   "outputs": [],
   "source": [
    "A = utils.convert_A_stub_to_ndarray(A_stub, model_labels)"
   ]
  },
  {
   "cell_type": "markdown",
   "metadata": {},
   "source": [
    "## Sample a random observation"
   ]
  },
  {
   "cell_type": "code",
   "execution_count": null,
   "metadata": {},
   "outputs": [],
   "source": [
    "obs_idx = [np.random.randint(o_dim) for o_dim in num_obs]\n",
    "# obs_idx = [0, 1] # wet and rainy\n",
    "\n",
    "observation = utils.obj_array_zeros(num_obs)\n",
    "\n",
    "for g, modality_name in enumerate(model_labels['observations'].keys()):\n",
    "    observation[g][obs_idx[g]] = 1.0\n",
    "    print('%s: %s'%(modality_name, model_labels['observations'][modality_name][obs_idx[g]]))"
   ]
  },
  {
   "cell_type": "markdown",
   "metadata": {},
   "source": [
    "## Given the observation and your A matrix, perform inference to optimize a simple posterior belief about the state of the world "
   ]
  },
  {
   "cell_type": "code",
   "execution_count": null,
   "metadata": {},
   "outputs": [],
   "source": [
    "qs = run_vanilla_fpi(A, observation, num_obs, n_states, prior=None, num_iter=10, dF=1.0, dF_tol=0.001)\n",
    "\n",
    "print('Belief that it rained: %.2f'%(qs[0][0]))\n",
    "print('Belief that the sprinkler was on: %.2f'%(qs[1][0]))"
   ]
  }
 ],
 "metadata": {
  "interpreter": {
   "hash": "43ee964e2ad3601b7244370fb08e7f23a81bd2f0e3c87ee41227da88c57ff102"
  },
  "kernelspec": {
   "display_name": "Python 3.7.10 64-bit ('pymdp_env': conda)",
   "name": "python3"
  },
  "language_info": {
   "codemirror_mode": {
    "name": "ipython",
    "version": 3
   },
   "file_extension": ".py",
   "mimetype": "text/x-python",
   "name": "python",
   "nbconvert_exporter": "python",
   "pygments_lexer": "ipython3",
   "version": "3.7.10"
  }
 },
 "nbformat": 4,
 "nbformat_minor": 2
}
